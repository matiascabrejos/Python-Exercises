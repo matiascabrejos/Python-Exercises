{
  "nbformat": 4,
  "nbformat_minor": 0,
  "metadata": {
    "colab": {
      "name": "Copia de clase3-poo.ipynb",
      "provenance": [],
      "collapsed_sections": [],
      "authorship_tag": "ABX9TyOtgKjHLjKqm2Ccw07YPxei",
      "include_colab_link": true
    },
    "kernelspec": {
      "name": "python3",
      "display_name": "Python 3"
    },
    "language_info": {
      "name": "python"
    }
  },
  "cells": [
    {
      "cell_type": "markdown",
      "metadata": {
        "id": "view-in-github",
        "colab_type": "text"
      },
      "source": [
        "<a href=\"https://colab.research.google.com/github/matiascabrejos/Python-Exercises/blob/master/Copia_de_clase3_poo.ipynb\" target=\"_parent\"><img src=\"https://colab.research.google.com/assets/colab-badge.svg\" alt=\"Open In Colab\"/></a>"
      ]
    },
    {
      "cell_type": "code",
      "execution_count": 60,
      "metadata": {
        "colab": {
          "base_uri": "https://localhost:8080/"
        },
        "id": "MRNRde3fcI07",
        "outputId": "5f0eda2b-fbf5-4b8d-fcff-86933c3686a1"
      },
      "outputs": [
        {
          "output_type": "stream",
          "name": "stdout",
          "text": [
            "You have a new follower: Matias\n",
            "Your Followers:\n",
            "1\n",
            "2\n",
            "3\n",
            "Matias\n",
            "[1, 2, 3, 'Matias']\n",
            "Matias\n",
            "The user: Matias, has been removed\n",
            "[1, 2, 3]\n"
          ]
        }
      ],
      "source": [
        "class pythagram:\n",
        "  def __init__(self, user: str, userImg: str, followers: list = None, following: list = None, verified: bool = False):\n",
        "    self.user = user\n",
        "    self.userImg = userImg\n",
        "    self.verified = verified\n",
        "\n",
        "    if followers is None:\n",
        "        self.followers = []\n",
        "    else:\n",
        "        self.followers = followers\n",
        "\n",
        "    if following is None:\n",
        "        self.following = []\n",
        "    else:\n",
        "        self.following = following\n",
        "\n",
        "  def printUser(self):\n",
        "    print(f'This profile belongs to: {self.user}')\n",
        "    print(f'Followers: {self.followers} - Following: {self.following}')\n",
        "\n",
        "  def addFollowers(self, *args):\n",
        "    for u in args:\n",
        "      self.followers.append(u)\n",
        "      print(f'You have a new follower: {u}')\n",
        "\n",
        "  def removeFollowers(self, *args):\n",
        "    print(self.followers)\n",
        "    for u in args:\n",
        "      print(u)\n",
        "      self.followers.remove(u)\n",
        "      print(f'The user: {u}, has been removed')\n",
        "      print(self.followers)\n",
        "  \n",
        "  def seeFollowers(self):\n",
        "    print('Your Followers:')\n",
        "    for u in self.followers:\n",
        "      print(u)\n",
        "\n",
        "test = pythagram('Matías', 'www.imageLink.com',[1,2,3], [4,5,6], 'false')\n",
        "test.addFollowers('Matias')\n",
        "test.seeFollowers()\n",
        "test.removeFollowers('Matias')\n"
      ]
    }
  ]
}