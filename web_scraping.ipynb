{
  "nbformat": 4,
  "nbformat_minor": 0,
  "metadata": {
    "colab": {
      "name": "web-scraping.ipynb",
      "provenance": [],
      "collapsed_sections": [],
      "authorship_tag": "ABX9TyP9fCSSliwvwRz1tR4nbTJe",
      "include_colab_link": true
    },
    "kernelspec": {
      "name": "python3",
      "display_name": "Python 3"
    },
    "language_info": {
      "name": "python"
    }
  },
  "cells": [
    {
      "cell_type": "markdown",
      "metadata": {
        "id": "view-in-github",
        "colab_type": "text"
      },
      "source": [
        "<a href=\"https://colab.research.google.com/github/matiascabrejos/Python-Exercises/blob/master/web_scraping.ipynb\" target=\"_parent\"><img src=\"https://colab.research.google.com/assets/colab-badge.svg\" alt=\"Open In Colab\"/></a>"
      ]
    },
    {
      "cell_type": "code",
      "execution_count": 2,
      "metadata": {
        "id": "mcrI1Ap8i_Lq"
      },
      "outputs": [],
      "source": [
        "import requests"
      ]
    },
    {
      "cell_type": "code",
      "source": [
        "web_site = 'https://economics.harvard.edu/'\n",
        "\n",
        "result = requests.get(web_site)\n",
        "\n",
        "result_html = result.text\n",
        "\n",
        "print(result_html[:1000])"
      ],
      "metadata": {
        "colab": {
          "base_uri": "https://localhost:8080/"
        },
        "id": "gWlb9Pj_jZde",
        "outputId": "35d94829-ed09-4d62-8b0f-86767e7a1e07"
      },
      "execution_count": 3,
      "outputs": [
        {
          "output_type": "stream",
          "name": "stdout",
          "text": [
            "<!DOCTYPE html>\n",
            "<!--[if IEMobile 7]><html class=\"iem7\"  lang=\"en\" dir=\"ltr\"><![endif]-->\n",
            "<!--[if lte IE 6]><html class=\"lt-ie9 lt-ie8 lt-ie7\"  lang=\"en\" dir=\"ltr\"><![endif]-->\n",
            "<!--[if (IE 7)&(!IEMobile)]><html class=\"lt-ie9 lt-ie8\"  lang=\"en\" dir=\"ltr\"><![endif]-->\n",
            "<!--[if IE 8]><html class=\"lt-ie9\"  lang=\"en\" dir=\"ltr\"><![endif]-->\n",
            "<!--[if (gte IE 9)|(gt IEMobile 7)]><!--><html  lang=\"en\" dir=\"ltr\"><!--<![endif]-->\n",
            "<head>\n",
            "<meta charset=\"utf-8\" />\n",
            "<link rel=\"shortcut icon\" href=\"https://economics.harvard.edu/profiles/openscholar/themes/hwpi_basetheme/favicon.png\" />\n",
            "<link rel=\"dns-prefetch\" href=\"//static.hwpi.harvard.edu\" />\n",
            "<meta name=\"description\" content=\"The Harvard Economics Department is one of the leading economics departments in the world, melding instruction and research to impart our students, at both the undergraduate and graduate level, with the models and methods of economics, using them to conduct research and broaden the field. Due to our faculty members&#039; diverse r\n"
          ]
        }
      ]
    }
  ]
}