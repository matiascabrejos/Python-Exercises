{
  "nbformat": 4,
  "nbformat_minor": 0,
  "metadata": {
    "colab": {
      "name": "web-scraping.ipynb",
      "provenance": [],
      "collapsed_sections": [],
      "authorship_tag": "ABX9TyONckYUEbJgF+u8mGkIKe9U",
      "include_colab_link": true
    },
    "kernelspec": {
      "name": "python3",
      "display_name": "Python 3"
    },
    "language_info": {
      "name": "python"
    }
  },
  "cells": [
    {
      "cell_type": "markdown",
      "metadata": {
        "id": "view-in-github",
        "colab_type": "text"
      },
      "source": [
        "<a href=\"https://colab.research.google.com/github/matiascabrejos/Python-Exercises/blob/master/web_scraping.ipynb\" target=\"_parent\"><img src=\"https://colab.research.google.com/assets/colab-badge.svg\" alt=\"Open In Colab\"/></a>"
      ]
    },
    {
      "cell_type": "code",
      "execution_count": 5,
      "metadata": {
        "id": "mcrI1Ap8i_Lq"
      },
      "outputs": [],
      "source": [
        "import requests\n",
        "from bs4 import BeautifulSoup"
      ]
    },
    {
      "cell_type": "code",
      "source": [
        "web_site = 'https://economics.harvard.edu/calendar/upcoming/event-type/seminars'\n",
        "\n",
        "def codigo_html(url):\n",
        "    headers = {\n",
        "        'user-agent': 'Mozilla/5.0 (X11; Linux x86_64) AppleWebKit/537.36 (KHTML, like Gecko) Chrome/84.0.4147.105 Safari/537.36'\n",
        "        }\n",
        "    resp = requests.get(url, headers = headers)\n",
        "    return resp.text\n",
        "\n",
        "web_html = codigo_html(web_site)\n",
        "\n",
        "soup = BeautifulSoup(web_html, \"html.parser\")\n",
        "\n",
        "h1_all = soup.find_all('h1')\n",
        "print(h1_all)\n"
      ],
      "metadata": {
        "colab": {
          "base_uri": "https://localhost:8080/"
        },
        "id": "gWlb9Pj_jZde",
        "outputId": "e9e26a92-2e80-4661-b270-1401a1503f92"
      },
      "execution_count": 20,
      "outputs": [
        {
          "output_type": "stream",
          "name": "stdout",
          "text": [
            "[<h1 id=\"page-title\" ng-non-bindable=\"\">\n",
            "\t\t\t\t\t\t\t\t\t\t\t\tSeminars\t\t\t\t\t\t\t\t\t\t\t</h1>, <h1 class=\"node-title\" ng-non-bindable=\"\" rel=\"nofollow\">\n",
            "<a href=\"https://economics.harvard.edu/event/seminar-law-economics-organization-41\" rel=\"bookmark\" title=\"On Mon Apr 4\">Seminar in Law, Economics, &amp; Organization</a>\n",
            "</h1>, <h1 class=\"node-title\" ng-non-bindable=\"\" rel=\"nofollow\">\n",
            "<a href=\"https://economics.harvard.edu/event/seminar-industrial-organization-53\" rel=\"bookmark\" title=\"On Mon Apr 4\">Seminar in Industrial Organization</a>\n",
            "</h1>, <h1 class=\"node-title\" ng-non-bindable=\"\" rel=\"nofollow\">\n",
            "<a href=\"https://economics.harvard.edu/event/seminar-joint-internationalmacro-econ-2\" rel=\"bookmark\" title=\"On Mon Apr 4\">Seminar joint in International/Macro Econ</a>\n",
            "</h1>, <h1 class=\"node-title\" ng-non-bindable=\"\" rel=\"nofollow\">\n",
            "<a href=\"https://economics.harvard.edu/event/seminar-macro-policy-7\" rel=\"bookmark\" title=\"On Tue Apr 5\">Seminar in Macro Policy</a>\n",
            "</h1>, <h1 class=\"node-title\" ng-non-bindable=\"\" rel=\"nofollow\">\n",
            "<a href=\"https://economics.harvard.edu/event/harvard-undergrads-inclusion-economics-huie-seminar-series-0\" rel=\"bookmark\" title=\"On Tue Apr 5\">Harvard Undergrads for Inclusion in Economics (HUIE) Seminar Series</a>\n",
            "</h1>, <h1 class=\"node-title\" ng-non-bindable=\"\" rel=\"nofollow\">\n",
            "<a href=\"https://economics.harvard.edu/event/seminar-behavioral-experimental-economics-51\" rel=\"bookmark\" title=\"On Wed Apr 6\">Seminar in Behavioral &amp; Experimental Economics</a>\n",
            "</h1>, <h1 class=\"node-title\" ng-non-bindable=\"\" rel=\"nofollow\">\n",
            "<a href=\"https://economics.harvard.edu/event/seminar-economic-development-44\" rel=\"bookmark\" title=\"On Wed Apr 6\">Seminar in Economic Development</a>\n",
            "</h1>, <h1 class=\"node-title\" ng-non-bindable=\"\" rel=\"nofollow\">\n",
            "<a href=\"https://economics.harvard.edu/event/seminar-health-economics-11\" rel=\"bookmark\" title=\"On Wed Apr 6\">Seminar in Health Economics</a>\n",
            "</h1>, <h1 class=\"node-title\" ng-non-bindable=\"\" rel=\"nofollow\">\n",
            "<a href=\"https://economics.harvard.edu/event/seminar-labor-economics-70\" rel=\"bookmark\" title=\"On Wed Apr 6\">Seminar in Labor Economics</a>\n",
            "</h1>, <h1 class=\"node-title\" ng-non-bindable=\"\" rel=\"nofollow\">\n",
            "<a href=\"https://economics.harvard.edu/event/seminar-public-economics-71\" rel=\"bookmark\" title=\"On Wed Apr 6\">Seminar in Public Economics</a>\n",
            "</h1>]\n"
          ]
        }
      ]
    }
  ]
}