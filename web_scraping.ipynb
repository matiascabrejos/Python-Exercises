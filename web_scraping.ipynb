{
  "nbformat": 4,
  "nbformat_minor": 0,
  "metadata": {
    "colab": {
      "name": "web-scraping.ipynb",
      "provenance": [],
      "collapsed_sections": [],
      "authorship_tag": "ABX9TyM4at/tlCvWPalwms3sro+l",
      "include_colab_link": true
    },
    "kernelspec": {
      "name": "python3",
      "display_name": "Python 3"
    },
    "language_info": {
      "name": "python"
    }
  },
  "cells": [
    {
      "cell_type": "markdown",
      "metadata": {
        "id": "view-in-github",
        "colab_type": "text"
      },
      "source": [
        "<a href=\"https://colab.research.google.com/github/matiascabrejos/Python-Exercises/blob/master/web_scraping.ipynb\" target=\"_parent\"><img src=\"https://colab.research.google.com/assets/colab-badge.svg\" alt=\"Open In Colab\"/></a>"
      ]
    },
    {
      "cell_type": "code",
      "execution_count": 1,
      "metadata": {
        "id": "mcrI1Ap8i_Lq"
      },
      "outputs": [],
      "source": [
        "import requests\n",
        "from bs4 import BeautifulSoup"
      ]
    },
    {
      "cell_type": "code",
      "source": [
        "web_site = 'https://economics.harvard.edu/calendar/upcoming/event-type/seminars'\n",
        "\n",
        "def codigo_html(url):\n",
        "    headers = {\n",
        "        'user-agent': 'Mozilla/5.0 (X11; Linux x86_64) AppleWebKit/537.36 (KHTML, like Gecko) Chrome/84.0.4147.105 Safari/537.36'\n",
        "        }\n",
        "    resp = requests.get(url, headers = headers)\n",
        "    return resp.text\n",
        "\n",
        "web_html = codigo_html(web_site)\n",
        "\n",
        "soup = BeautifulSoup(web_html, \"html.parser\")\n",
        "\n",
        "h1_all = soup.find_all('a', rel='bookmark')\n",
        "\n",
        "for fecha in h1_all:\n",
        "  print(fecha.text)\n",
        "\n",
        "span_all = soup.find_all('span', class_='date-display-single')\n",
        "\n",
        "\n",
        "for span in span_all:\n",
        "  print(span.text)"
      ],
      "metadata": {
        "colab": {
          "base_uri": "https://localhost:8080/"
        },
        "id": "gWlb9Pj_jZde",
        "outputId": "9ba485bf-fca1-4d8b-ab83-f97dca9c91a5"
      },
      "execution_count": 7,
      "outputs": [
        {
          "output_type": "stream",
          "name": "stdout",
          "text": [
            "Seminar in Macro Policy\n",
            "Harvard Undergrads for Inclusion in Economics (HUIE) Seminar Series\n",
            "Seminar in Behavioral & Experimental Economics\n",
            "Seminar in Economic Development\n",
            "Seminar in Health Economics\n",
            "Seminar in Labor Economics\n",
            "Seminar in Public Economics\n",
            "Seminar in Econometrics\n",
            "Seminar in Economic Theory\n",
            "Alberto Alesina Seminar on Political Economy\n",
            " 1:30pm to 2:45pm \n",
            " 4:30pm to 5:30pm \n",
            " 12:00pm to 1:15pm \n",
            " 2:35pm to 4:00pm \n",
            " 4:00pm to 5:15pm \n",
            " 4:30pm to 5:45pm \n",
            " 4:30pm to 5:45pm \n",
            " 4:00pm to 5:00pm \n",
            " 4:05pm to 5:20pm \n",
            " 4:30pm to 5:45pm \n"
          ]
        }
      ]
    }
  ]
}