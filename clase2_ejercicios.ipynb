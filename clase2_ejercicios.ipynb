{
  "nbformat": 4,
  "nbformat_minor": 0,
  "metadata": {
    "colab": {
      "name": "clase2-ejercicios.ipynb",
      "provenance": [],
      "collapsed_sections": [],
      "authorship_tag": "ABX9TyN7UrTDZElpIZ5W6dU/VjBC",
      "include_colab_link": true
    },
    "kernelspec": {
      "name": "python3",
      "display_name": "Python 3"
    },
    "language_info": {
      "name": "python"
    }
  },
  "cells": [
    {
      "cell_type": "markdown",
      "metadata": {
        "id": "view-in-github",
        "colab_type": "text"
      },
      "source": [
        "<a href=\"https://colab.research.google.com/github/matiascabrejos/Python-Exercises/blob/master/clase2_ejercicios.ipynb\" target=\"_parent\"><img src=\"https://colab.research.google.com/assets/colab-badge.svg\" alt=\"Open In Colab\"/></a>"
      ]
    },
    {
      "cell_type": "markdown",
      "source": [
        "Prime parte ejercicio"
      ],
      "metadata": {
        "id": "h-L8pygKmvUz"
      }
    },
    {
      "cell_type": "code",
      "execution_count": null,
      "metadata": {
        "id": "bmO0wBkug4DG",
        "colab": {
          "base_uri": "https://localhost:8080/"
        },
        "outputId": "ab837c47-3fdb-42f0-8977-48bacbdf703b"
      },
      "outputs": [
        {
          "output_type": "stream",
          "name": "stdout",
          "text": [
            "--2022-03-20 22:48:02--  https://datasets-humai.s3.amazonaws.com/datasets/publicaciones.zip\n",
            "Resolving datasets-humai.s3.amazonaws.com (datasets-humai.s3.amazonaws.com)... 52.216.112.115\n",
            "Connecting to datasets-humai.s3.amazonaws.com (datasets-humai.s3.amazonaws.com)|52.216.112.115|:443... connected.\n",
            "HTTP request sent, awaiting response... 200 OK\n",
            "Length: 4342 (4.2K) [application/zip]\n",
            "Saving to: ‘publicaciones.zip’\n",
            "\n",
            "publicaciones.zip   100%[===================>]   4.24K  --.-KB/s    in 0s      \n",
            "\n",
            "2022-03-20 22:48:03 (59.0 MB/s) - ‘publicaciones.zip’ saved [4342/4342]\n",
            "\n",
            "Archive:  publicaciones.zip\n",
            "   creating: publicaciones/\n",
            "  inflating: publicaciones/Yukon Delta Salmon Management.txt  \n",
            "  inflating: publicaciones/The Citrus Solution Phase II.txt  \n",
            "  inflating: publicaciones/Characterization of Iron Deposition in Recombinant Heteropolymer.txt  \n",
            "  inflating: publicaciones/Using GIS Site Suitability Analysis to Study Adaptability.txt  \n",
            "['Yukon Delta Salmon Management.txt', 'The Citrus Solution Phase II.txt', 'Characterization of Iron Deposition in Recombinant Heteropolymer.txt', 'Using GIS Site Suitability Analysis to Study Adaptability.txt']\n"
          ]
        }
      ],
      "source": [
        "!wget https://datasets-humai.s3.amazonaws.com/datasets/publicaciones.zip\n",
        "!unzip publicaciones.zip\n",
        "import os\n",
        "archivos_directorio = os.listdir('publicaciones')\n",
        "print(archivos_directorio)"
      ]
    },
    {
      "cell_type": "code",
      "source": [
        "rutas_archivos = [os.path.join('publicaciones',archivo) for archivo in archivos_directorio]\n",
        "rutas_archivos"
      ],
      "metadata": {
        "colab": {
          "base_uri": "https://localhost:8080/"
        },
        "id": "9QDLB047hgmy",
        "outputId": "48e6b091-28d3-49d8-8128-121a300aa0eb"
      },
      "execution_count": null,
      "outputs": [
        {
          "output_type": "execute_result",
          "data": {
            "text/plain": [
              "['publicaciones/Yukon Delta Salmon Management.txt',\n",
              " 'publicaciones/The Citrus Solution Phase II.txt',\n",
              " 'publicaciones/Characterization of Iron Deposition in Recombinant Heteropolymer.txt',\n",
              " 'publicaciones/Using GIS Site Suitability Analysis to Study Adaptability.txt']"
            ]
          },
          "metadata": {},
          "execution_count": 2
        }
      ]
    },
    {
      "cell_type": "code",
      "source": [
        "tuplas_archivos = list(zip(rutas_archivos,archivos_directorio))\n",
        "for tupla in tuplas_archivos:\n",
        "    print(tupla)"
      ],
      "metadata": {
        "colab": {
          "base_uri": "https://localhost:8080/"
        },
        "id": "5iYeFtoWhxQP",
        "outputId": "40f042df-f1f9-4470-be57-271370197dce"
      },
      "execution_count": null,
      "outputs": [
        {
          "output_type": "stream",
          "name": "stdout",
          "text": [
            "('publicaciones/Yukon Delta Salmon Management.txt', 'Yukon Delta Salmon Management.txt')\n",
            "('publicaciones/The Citrus Solution Phase II.txt', 'The Citrus Solution Phase II.txt')\n",
            "('publicaciones/Characterization of Iron Deposition in Recombinant Heteropolymer.txt', 'Characterization of Iron Deposition in Recombinant Heteropolymer.txt')\n",
            "('publicaciones/Using GIS Site Suitability Analysis to Study Adaptability.txt', 'Using GIS Site Suitability Analysis to Study Adaptability.txt')\n"
          ]
        }
      ]
    },
    {
      "cell_type": "code",
      "source": [
        "def contar_palabras(tupla):\n",
        "  ruta = tupla[0]\n",
        "  nombre = tupla[1]\n",
        "  with open(ruta, 'r') as inp:\n",
        "    string_contenido = inp.read()\n",
        "  palabras = string_contenido.split(' ')\n",
        "  cantidad_palabras = len(palabras)\n",
        "  return(nombre, cantidad_palabras)\n"
      ],
      "metadata": {
        "id": "JC_ZJl-XjMJ3"
      },
      "execution_count": null,
      "outputs": []
    },
    {
      "cell_type": "code",
      "source": [
        "for t in tuplas_archivos:\n",
        "  print(contar_palabras(t))"
      ],
      "metadata": {
        "colab": {
          "base_uri": "https://localhost:8080/"
        },
        "id": "YTX_bA8ujrv9",
        "outputId": "389395d1-3bc9-4752-8c04-85ca750676d2"
      },
      "execution_count": null,
      "outputs": [
        {
          "output_type": "stream",
          "name": "stdout",
          "text": [
            "('Yukon Delta Salmon Management.txt', 109)\n",
            "('The Citrus Solution Phase II.txt', 519)\n",
            "('Characterization of Iron Deposition in Recombinant Heteropolymer.txt', 217)\n",
            "('Using GIS Site Suitability Analysis to Study Adaptability.txt', 134)\n"
          ]
        }
      ]
    },
    {
      "cell_type": "markdown",
      "source": [
        "Segunda parte ejercicio"
      ],
      "metadata": {
        "id": "stZvRS8Cm26f"
      }
    },
    {
      "cell_type": "code",
      "source": [
        "def contar_palabras(tupla):\n",
        "  ruta = tupla[0]\n",
        "  nombre = tupla[1]\n",
        "  with open(ruta, 'r') as inp:\n",
        "    string_contenido = inp.read()\n",
        "  palabras = string_contenido.split(' ')\n",
        "  cantidad_palabras = len(palabras)\n",
        "  supera = False\n",
        "  if cantidad_palabras > 250:\n",
        "    supera = True\n",
        "  return(nombre, supera)"
      ],
      "metadata": {
        "id": "1IfSPQmnm5rj"
      },
      "execution_count": null,
      "outputs": []
    },
    {
      "cell_type": "code",
      "source": [
        "for t in tuplas_archivos:\n",
        "  print(contar_palabras(t))"
      ],
      "metadata": {
        "colab": {
          "base_uri": "https://localhost:8080/"
        },
        "id": "u1jgQr7QnkFY",
        "outputId": "79ad98d4-0697-4743-b446-cd1d2b05b92f"
      },
      "execution_count": null,
      "outputs": [
        {
          "output_type": "stream",
          "name": "stdout",
          "text": [
            "('Yukon Delta Salmon Management.txt', False)\n",
            "('The Citrus Solution Phase II.txt', True)\n",
            "('Characterization of Iron Deposition in Recombinant Heteropolymer.txt', False)\n",
            "('Using GIS Site Suitability Analysis to Study Adaptability.txt', False)\n"
          ]
        }
      ]
    },
    {
      "cell_type": "markdown",
      "source": [
        "Adicionales"
      ],
      "metadata": {
        "id": "nyXESIuc0NPx"
      }
    },
    {
      "cell_type": "code",
      "source": [
        "!wget https://datasets-humai.s3.amazonaws.com/datasets/test_intro_clase2.zip\n",
        "!unzip test_intro_clase2.zip\n",
        "\n",
        "from test import *"
      ],
      "metadata": {
        "colab": {
          "base_uri": "https://localhost:8080/"
        },
        "id": "ksqs4y3O0Thh",
        "outputId": "fb05f8ca-2b93-4189-adf0-eed8a25de09d"
      },
      "execution_count": null,
      "outputs": [
        {
          "output_type": "stream",
          "name": "stdout",
          "text": [
            "--2022-03-21 00:12:25--  https://datasets-humai.s3.amazonaws.com/datasets/test_intro_clase2.zip\n",
            "Resolving datasets-humai.s3.amazonaws.com (datasets-humai.s3.amazonaws.com)... 54.231.73.35\n",
            "Connecting to datasets-humai.s3.amazonaws.com (datasets-humai.s3.amazonaws.com)|54.231.73.35|:443... connected.\n",
            "HTTP request sent, awaiting response... 200 OK\n",
            "Length: 3265 (3.2K) [application/zip]\n",
            "Saving to: ‘test_intro_clase2.zip’\n",
            "\n",
            "test_intro_clase2.z 100%[===================>]   3.19K  --.-KB/s    in 0s      \n",
            "\n",
            "2022-03-21 00:12:25 (112 MB/s) - ‘test_intro_clase2.zip’ saved [3265/3265]\n",
            "\n",
            "Archive:  test_intro_clase2.zip\n",
            "  inflating: README.txt              \n",
            "   creating: test/\n",
            "  inflating: test/borges1.txt        \n",
            "  inflating: test/borges1_encriptado_6.txt  \n",
            "  inflating: test/borges1_encriptado_6_cap.txt  \n",
            "  inflating: test/borges2.txt        \n",
            "  inflating: test/borges2_encriptado_11.txt  \n",
            "  inflating: test/borges2_encriptado_11_cap.txt  \n",
            "  inflating: test.py                 \n"
          ]
        }
      ]
    },
    {
      "cell_type": "markdown",
      "source": [
        "Juego de espías (Fácil)"
      ],
      "metadata": {
        "id": "1MCGJoGC0YBW"
      }
    },
    {
      "cell_type": "code",
      "source": [
        "def informe_espia(tira_numeros):\n",
        "    numeros = tira_numeros.split('-')\n",
        "    cuartel = int(numeros[-1])\n",
        "    informe = 0\n",
        "    for num in numeros[:-1]:\n",
        "        if int(num) % cuartel == 0:\n",
        "            informe += int(num)\n",
        "            \n",
        "    print(f\"En el cuartel número {cuartel} hay {informe} soldados\") \n",
        "    return (cuartel,informe)     "
      ],
      "metadata": {
        "id": "2GLitI2v0aD-"
      },
      "execution_count": null,
      "outputs": []
    },
    {
      "cell_type": "code",
      "source": [
        "test1(informe_espia)"
      ],
      "metadata": {
        "colab": {
          "base_uri": "https://localhost:8080/"
        },
        "id": "dyltfp-V13qB",
        "outputId": "7c6b14a3-0128-485f-fea4-1b74bd3b103f"
      },
      "execution_count": null,
      "outputs": [
        {
          "output_type": "stream",
          "name": "stdout",
          "text": [
            "En el cuartel número 3 hay 1581 soldados\n",
            "En el cuartel número 5 hay 213455295 soldados\n",
            "En el cuartel número 1 hay 138467 soldados\n",
            "En el cuartel número 2 hay 0 soldados\n",
            "Salio todo piola\n"
          ]
        }
      ]
    }
  ]
}