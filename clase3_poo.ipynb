{
  "nbformat": 4,
  "nbformat_minor": 0,
  "metadata": {
    "colab": {
      "name": "clase3-poo.ipynb",
      "provenance": [],
      "collapsed_sections": [],
      "authorship_tag": "ABX9TyPQOQ/ls+U+MKQd5AoqmJc1",
      "include_colab_link": true
    },
    "kernelspec": {
      "name": "python3",
      "display_name": "Python 3"
    },
    "language_info": {
      "name": "python"
    }
  },
  "cells": [
    {
      "cell_type": "markdown",
      "metadata": {
        "id": "view-in-github",
        "colab_type": "text"
      },
      "source": [
        "<a href=\"https://colab.research.google.com/github/matiascabrejos/Python-Exercises/blob/master/clase3_poo.ipynb\" target=\"_parent\"><img src=\"https://colab.research.google.com/assets/colab-badge.svg\" alt=\"Open In Colab\"/></a>"
      ]
    },
    {
      "cell_type": "code",
      "execution_count": 11,
      "metadata": {
        "colab": {
          "base_uri": "https://localhost:8080/"
        },
        "id": "MRNRde3fcI07",
        "outputId": "b572c788-4101-46ee-eb05-8b4028061d66"
      },
      "outputs": [
        {
          "output_type": "stream",
          "name": "stdout",
          "text": [
            "This profile belongs to: Matías\n"
          ]
        }
      ],
      "source": [
        "class pythagram:\n",
        "  def __init__(self, user, userImg, verified):\n",
        "    self.user = user\n",
        "    self.userImg = userImg\n",
        "    self.verified = verified\n",
        "\n",
        "  def printUser(self):\n",
        "    print(f'This profile belongs to: {self.user}')\n",
        "\n",
        "test = pythagram('Matías', 'www.imageLink.com', 'false')\n",
        "test.printUser()"
      ]
    }
  ]
}