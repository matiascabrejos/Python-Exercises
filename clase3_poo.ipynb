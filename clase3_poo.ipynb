{
  "nbformat": 4,
  "nbformat_minor": 0,
  "metadata": {
    "colab": {
      "name": "clase3-poo.ipynb",
      "provenance": [],
      "collapsed_sections": [],
      "authorship_tag": "ABX9TyNcCUpn91+6QbSmYbEZWoG3",
      "include_colab_link": true
    },
    "kernelspec": {
      "name": "python3",
      "display_name": "Python 3"
    },
    "language_info": {
      "name": "python"
    }
  },
  "cells": [
    {
      "cell_type": "markdown",
      "metadata": {
        "id": "view-in-github",
        "colab_type": "text"
      },
      "source": [
        "<a href=\"https://colab.research.google.com/github/matiascabrejos/Python-Exercises/blob/master/clase3_poo.ipynb\" target=\"_parent\"><img src=\"https://colab.research.google.com/assets/colab-badge.svg\" alt=\"Open In Colab\"/></a>"
      ]
    },
    {
      "cell_type": "code",
      "execution_count": 12,
      "metadata": {
        "colab": {
          "base_uri": "https://localhost:8080/"
        },
        "id": "MRNRde3fcI07",
        "outputId": "3e66cd48-9166-4e2c-c243-9b9cb3160c3c"
      },
      "outputs": [
        {
          "output_type": "stream",
          "name": "stdout",
          "text": [
            "This profile belongs to: Matías\n",
            "Followers: [1, 2, 3] - Following: [4, 5, 6]\n"
          ]
        }
      ],
      "source": [
        "class pythagram:\n",
        "  def __init__(self, user: str, userImg: str, followers: list = None, following: list = None, verified: bool = False):\n",
        "    self.user = user\n",
        "    self.userImg = userImg\n",
        "    self.verified = verified\n",
        "    self.followers = followers\n",
        "    self.following = following\n",
        "\n",
        "  def printUser(self):\n",
        "    print(f'This profile belongs to: {self.user}')\n",
        "    print(f'Followers: {self.followers} - Following: {self.following}')\n",
        "\n",
        "test = pythagram('Matías', 'www.imageLink.com',[1,2,3], [4,5,6], 'false')\n",
        "test.printUser()"
      ]
    }
  ]
}